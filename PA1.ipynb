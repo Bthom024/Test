{
 "cells": [
  {
   "cell_type": "markdown",
   "id": "f4042bea",
   "metadata": {},
   "source": [
    "## Brandon Thomas \n",
    "### Programming Assignment 1 \n",
    "#### Version 1 \n",
    "#### Fall 2021"
   ]
  },
  {
   "cell_type": "code",
   "execution_count": 25,
   "id": "802193b9",
   "metadata": {},
   "outputs": [
    {
     "name": "stdout",
     "output_type": "stream",
     "text": [
      "Enter a floating point number:57.6\n"
     ]
    }
   ],
   "source": [
    "float = input(\"Enter a floating point number:\")"
   ]
  },
  {
   "cell_type": "code",
   "execution_count": 3,
   "id": "eedecd08",
   "metadata": {},
   "outputs": [
    {
     "name": "stdout",
     "output_type": "stream",
     "text": [
      "Enter an integer: 18\n"
     ]
    }
   ],
   "source": [
    "int = input(\"Enter an integer: \")"
   ]
  },
  {
   "cell_type": "code",
   "execution_count": 10,
   "id": "60073cc4",
   "metadata": {},
   "outputs": [],
   "source": [
    "x=57.6\n",
    "y=18"
   ]
  },
  {
   "cell_type": "code",
   "execution_count": 20,
   "id": "50af6246",
   "metadata": {},
   "outputs": [
    {
     "name": "stdout",
     "output_type": "stream",
     "text": [
      "The sum is 75.6\n"
     ]
    }
   ],
   "source": [
    "print('The sum is', x+y)"
   ]
  },
  {
   "cell_type": "code",
   "execution_count": 21,
   "id": "6053373c",
   "metadata": {},
   "outputs": [
    {
     "name": "stdout",
     "output_type": "stream",
     "text": [
      "The difference is 39.6\n"
     ]
    }
   ],
   "source": [
    "print('The difference is',x-y)"
   ]
  },
  {
   "cell_type": "code",
   "execution_count": 22,
   "id": "018e4cce",
   "metadata": {},
   "outputs": [
    {
     "name": "stdout",
     "output_type": "stream",
     "text": [
      "The product is 1036.8\n"
     ]
    }
   ],
   "source": [
    "print('The product is',x*y)"
   ]
  },
  {
   "cell_type": "code",
   "execution_count": 23,
   "id": "4b705273",
   "metadata": {},
   "outputs": [
    {
     "name": "stdout",
     "output_type": "stream",
     "text": [
      "The quotient is 3.2\n"
     ]
    }
   ],
   "source": [
    "print('The quotient is',x/y)"
   ]
  },
  {
   "cell_type": "code",
   "execution_count": 24,
   "id": "6a341b12",
   "metadata": {},
   "outputs": [
    {
     "name": "stdout",
     "output_type": "stream",
     "text": [
      "The type for the result is <class 'float'>\n"
     ]
    }
   ],
   "source": [
    "print('The type for the result is',type(x))"
   ]
  }
 ],
 "metadata": {
  "kernelspec": {
   "display_name": "Python 3",
   "language": "python",
   "name": "python3"
  },
  "language_info": {
   "codemirror_mode": {
    "name": "ipython",
    "version": 3
   },
   "file_extension": ".py",
   "mimetype": "text/x-python",
   "name": "python",
   "nbconvert_exporter": "python",
   "pygments_lexer": "ipython3",
   "version": "3.8.8"
  }
 },
 "nbformat": 4,
 "nbformat_minor": 5
}
