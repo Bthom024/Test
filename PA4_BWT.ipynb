{
 "cells": [
  {
   "cell_type": "markdown",
   "id": "30a86b07",
   "metadata": {},
   "source": [
    "### Programming Assignment 4\n",
    "#### Brandon Thomas\n",
    "#### Version 1\n",
    "#### CS-150-01 Fall 2021"
   ]
  },
  {
   "cell_type": "markdown",
   "id": "4207fec4",
   "metadata": {},
   "source": [
    "### Built-In List Functions"
   ]
  },
  {
   "cell_type": "code",
   "execution_count": 5,
   "id": "0971373f",
   "metadata": {},
   "outputs": [
    {
     "data": {
      "text/plain": [
       "[33, 11, 38, 36, 39, 40, 12, 1, 7, 2]"
      ]
     },
     "execution_count": 5,
     "metadata": {},
     "output_type": "execute_result"
    }
   ],
   "source": [
    "import random\n",
    "numbers=[random.randrange(0,51) for i in range (10)]\n",
    "numbers"
   ]
  },
  {
   "cell_type": "markdown",
   "id": "efc915ae",
   "metadata": {},
   "source": [
    "**append()** - adds a single item to the end of an existing list"
   ]
  },
  {
   "cell_type": "code",
   "execution_count": 6,
   "id": "e477d5e0",
   "metadata": {},
   "outputs": [
    {
     "data": {
      "text/plain": [
       "[33, 11, 38, 36, 39, 40, 12, 1, 7, 2, 26]"
      ]
     },
     "execution_count": 6,
     "metadata": {},
     "output_type": "execute_result"
    }
   ],
   "source": [
    "numbers.append(26)\n",
    "numbers"
   ]
  },
  {
   "cell_type": "markdown",
   "id": "f82a4c23",
   "metadata": {},
   "source": [
    "**extend()** -  adds the specified list elements to the end of the current list (done in list form)"
   ]
  },
  {
   "cell_type": "code",
   "execution_count": 7,
   "id": "ae98cc63",
   "metadata": {},
   "outputs": [
    {
     "data": {
      "text/plain": [
       "[33, 11, 38, 36, 39, 40, 12, 1, 7, 2, 26, 45, 19]"
      ]
     },
     "execution_count": 7,
     "metadata": {},
     "output_type": "execute_result"
    }
   ],
   "source": [
    "numbers.extend([45,19])\n",
    "numbers"
   ]
  },
  {
   "cell_type": "markdown",
   "id": "62b06e6d",
   "metadata": {},
   "source": [
    "**insert()** - adds item to a list at a specific position in a list (done as (location,value))"
   ]
  },
  {
   "cell_type": "code",
   "execution_count": 8,
   "id": "6f6b789d",
   "metadata": {},
   "outputs": [
    {
     "data": {
      "text/plain": [
       "[33, 11, 38, 36, 25, 39, 40, 12, 1, 7, 2, 26, 45, 19]"
      ]
     },
     "execution_count": 8,
     "metadata": {},
     "output_type": "execute_result"
    }
   ],
   "source": [
    "numbers.insert(4,25)\n",
    "numbers"
   ]
  },
  {
   "cell_type": "markdown",
   "id": "ecccf176",
   "metadata": {},
   "source": [
    "**remove()** - removes a specified item from a list"
   ]
  },
  {
   "cell_type": "code",
   "execution_count": 9,
   "id": "07aed246",
   "metadata": {},
   "outputs": [
    {
     "data": {
      "text/plain": [
       "[33, 11, 38, 36, 25, 39, 40, 12, 1, 7, 2, 26, 45]"
      ]
     },
     "execution_count": 9,
     "metadata": {},
     "output_type": "execute_result"
    }
   ],
   "source": [
    "numbers.remove(19)\n",
    "numbers"
   ]
  },
  {
   "cell_type": "markdown",
   "id": "fc330b18",
   "metadata": {},
   "source": [
    "**count()** - calculates how many times a particular value appears within a list"
   ]
  },
  {
   "cell_type": "code",
   "execution_count": 10,
   "id": "8e12e21c",
   "metadata": {},
   "outputs": [
    {
     "data": {
      "text/plain": [
       "1"
      ]
     },
     "execution_count": 10,
     "metadata": {},
     "output_type": "execute_result"
    }
   ],
   "source": [
    "numbers.count(12)"
   ]
  },
  {
   "cell_type": "markdown",
   "id": "bfa6b9a2",
   "metadata": {},
   "source": [
    "**index()** -  returns the index position of an item in a list"
   ]
  },
  {
   "cell_type": "code",
   "execution_count": 11,
   "id": "7e2b0f3b",
   "metadata": {},
   "outputs": [
    {
     "data": {
      "text/plain": [
       "2"
      ]
     },
     "execution_count": 11,
     "metadata": {},
     "output_type": "execute_result"
    }
   ],
   "source": [
    "numbers.index(38)"
   ]
  },
  {
   "cell_type": "markdown",
   "id": "d6c7688c",
   "metadata": {},
   "source": [
    "**pop()** - removes the last element from a list and returns that element"
   ]
  },
  {
   "cell_type": "code",
   "execution_count": 12,
   "id": "21aaf239",
   "metadata": {},
   "outputs": [
    {
     "data": {
      "text/plain": [
       "[33, 11, 38, 36, 25, 39, 40, 12, 1, 7, 2, 26, 45]"
      ]
     },
     "execution_count": 12,
     "metadata": {},
     "output_type": "execute_result"
    }
   ],
   "source": [
    "numbers"
   ]
  },
  {
   "cell_type": "code",
   "execution_count": 13,
   "id": "bd746347",
   "metadata": {},
   "outputs": [
    {
     "data": {
      "text/plain": [
       "38"
      ]
     },
     "execution_count": 13,
     "metadata": {},
     "output_type": "execute_result"
    }
   ],
   "source": [
    "numbers.pop(2)"
   ]
  },
  {
   "cell_type": "markdown",
   "id": "96b3f323",
   "metadata": {},
   "source": [
    "**sorted()** - sorts any sequence and returns a list with the elements in a sorted manner, without modifying the original sequence"
   ]
  },
  {
   "cell_type": "code",
   "execution_count": 14,
   "id": "7fbe9c09",
   "metadata": {},
   "outputs": [
    {
     "data": {
      "text/plain": [
       "[1, 2, 7, 11, 12, 25, 26, 33, 36, 39, 40, 45]"
      ]
     },
     "execution_count": 14,
     "metadata": {},
     "output_type": "execute_result"
    }
   ],
   "source": [
    "sorted(numbers)"
   ]
  },
  {
   "cell_type": "markdown",
   "id": "2595620f",
   "metadata": {},
   "source": [
    "**copy()** - creates a copy of an existing list"
   ]
  },
  {
   "cell_type": "code",
   "execution_count": 15,
   "id": "ce90d9c4",
   "metadata": {},
   "outputs": [
    {
     "data": {
      "text/plain": [
       "[33, 11, 36, 25, 39, 40, 12, 1, 7, 2, 26, 45]"
      ]
     },
     "execution_count": 15,
     "metadata": {},
     "output_type": "execute_result"
    }
   ],
   "source": [
    "numbers1=numbers.copy()\n",
    "numbers1"
   ]
  },
  {
   "cell_type": "markdown",
   "id": "a76949aa",
   "metadata": {},
   "source": [
    "**clear()** - removes all elements from a list"
   ]
  },
  {
   "cell_type": "code",
   "execution_count": 17,
   "id": "99be6617",
   "metadata": {},
   "outputs": [
    {
     "data": {
      "text/plain": [
       "[]"
      ]
     },
     "execution_count": 17,
     "metadata": {},
     "output_type": "execute_result"
    }
   ],
   "source": [
    "numbers1.clear()\n",
    "numbers1"
   ]
  },
  {
   "cell_type": "markdown",
   "id": "b0fca0da",
   "metadata": {},
   "source": [
    "**any()** -  returns True if any element of an iterable is True"
   ]
  },
  {
   "cell_type": "code",
   "execution_count": 18,
   "id": "f2a308cd",
   "metadata": {},
   "outputs": [
    {
     "data": {
      "text/plain": [
       "True"
      ]
     },
     "execution_count": 18,
     "metadata": {},
     "output_type": "execute_result"
    }
   ],
   "source": [
    "boolean=[True,True,False,True]\n",
    "any(boolean)"
   ]
  },
  {
   "cell_type": "markdown",
   "id": "12e8073e",
   "metadata": {},
   "source": [
    "**filter()** - forms a new list that contains only elements that satisfy a certain condition"
   ]
  },
  {
   "cell_type": "code",
   "execution_count": 21,
   "id": "5487c90b",
   "metadata": {},
   "outputs": [
    {
     "name": "stdout",
     "output_type": "stream",
     "text": [
      "[25, 3, 37, 4, 35, 38, 18, 33, 21, 45]\n"
     ]
    }
   ],
   "source": [
    "import random\n",
    "def less_than_twenty(x):\n",
    "    if x<20:\n",
    "        return x\n",
    "numbers=[random.randrange(0,51) for i in range(10)]\n",
    "print(numbers)"
   ]
  },
  {
   "cell_type": "code",
   "execution_count": 22,
   "id": "ce320d1b",
   "metadata": {},
   "outputs": [
    {
     "data": {
      "text/plain": [
       "[3, 4, 18]"
      ]
     },
     "execution_count": 22,
     "metadata": {},
     "output_type": "execute_result"
    }
   ],
   "source": [
    "list(filter(less_than_twenty,numbers))"
   ]
  },
  {
   "cell_type": "markdown",
   "id": "3c60fc52",
   "metadata": {},
   "source": [
    "**list()** - creates a collection that can be manipulated for analysis"
   ]
  },
  {
   "cell_type": "code",
   "execution_count": 25,
   "id": "b6e045d7",
   "metadata": {},
   "outputs": [
    {
     "data": {
      "text/plain": [
       "[2, 3, 6, 8, 9, 10]"
      ]
     },
     "execution_count": 25,
     "metadata": {},
     "output_type": "execute_result"
    }
   ],
   "source": [
    "numbers=[2,3,6,8,9,10]\n",
    "list(numbers)"
   ]
  },
  {
   "cell_type": "markdown",
   "id": "2e4c0628",
   "metadata": {},
   "source": [
    "**map()** - allows you to process and transform all the items in an iterable without using an explicit for loop"
   ]
  },
  {
   "cell_type": "code",
   "execution_count": 24,
   "id": "37a1bb9b",
   "metadata": {},
   "outputs": [
    {
     "data": {
      "text/plain": [
       "[None, 3, None, 4, None, None, 18, None, None, None]"
      ]
     },
     "execution_count": 24,
     "metadata": {},
     "output_type": "execute_result"
    }
   ],
   "source": [
    "list(map(less_than_twenty,numbers))"
   ]
  },
  {
   "cell_type": "markdown",
   "id": "48bc01d7",
   "metadata": {},
   "source": [
    "### Built-In Tuple Functions"
   ]
  },
  {
   "cell_type": "markdown",
   "id": "9a3c9dcd",
   "metadata": {},
   "source": [
    "**cmp()** - used to compare two objects and returns value according to the given values"
   ]
  },
  {
   "cell_type": "code",
   "execution_count": 34,
   "id": "8944e1f4",
   "metadata": {},
   "outputs": [
    {
     "ename": "NameError",
     "evalue": "name 'cmp' is not defined",
     "output_type": "error",
     "traceback": [
      "\u001b[1;31m---------------------------------------------------------------------------\u001b[0m",
      "\u001b[1;31mNameError\u001b[0m                                 Traceback (most recent call last)",
      "\u001b[1;32m<ipython-input-34-0e121d7d0d8e>\u001b[0m in \u001b[0;36m<module>\u001b[1;34m\u001b[0m\n\u001b[0;32m      1\u001b[0m \u001b[0mexample_tuple\u001b[0m\u001b[1;33m=\u001b[0m\u001b[1;33m(\u001b[0m\u001b[1;36m9\u001b[0m\u001b[1;33m,\u001b[0m\u001b[1;36m2\u001b[0m\u001b[1;33m,\u001b[0m\u001b[1;36m5\u001b[0m\u001b[1;33m,\u001b[0m\u001b[1;36m2\u001b[0m\u001b[1;33m)\u001b[0m\u001b[1;33m\u001b[0m\u001b[1;33m\u001b[0m\u001b[0m\n\u001b[0;32m      2\u001b[0m \u001b[0mexample_tuple1\u001b[0m\u001b[1;33m=\u001b[0m\u001b[1;33m(\u001b[0m\u001b[1;36m8\u001b[0m\u001b[1;33m,\u001b[0m\u001b[1;36m6\u001b[0m\u001b[1;33m,\u001b[0m\u001b[1;36m4\u001b[0m\u001b[1;33m,\u001b[0m\u001b[1;36m4\u001b[0m\u001b[1;33m)\u001b[0m\u001b[1;33m\u001b[0m\u001b[1;33m\u001b[0m\u001b[0m\n\u001b[1;32m----> 3\u001b[1;33m \u001b[0mprint\u001b[0m\u001b[1;33m(\u001b[0m\u001b[0mcmp\u001b[0m\u001b[1;33m(\u001b[0m\u001b[0mexample_tuple\u001b[0m\u001b[1;33m,\u001b[0m\u001b[0mexample_tuple1\u001b[0m\u001b[1;33m)\u001b[0m\u001b[1;33m)\u001b[0m\u001b[1;33m\u001b[0m\u001b[1;33m\u001b[0m\u001b[0m\n\u001b[0m",
      "\u001b[1;31mNameError\u001b[0m: name 'cmp' is not defined"
     ]
    }
   ],
   "source": [
    "example_tuple=(9,2,5,2)\n",
    "example_tuple1=(8,6,4,2)\n",
    "print(cmp(example_tuple,example_tuple1)) #cmp does not exist in python 3"
   ]
  },
  {
   "cell_type": "markdown",
   "id": "3fdaf9cd",
   "metadata": {},
   "source": [
    "**len()** - returns the length of a data format"
   ]
  },
  {
   "cell_type": "code",
   "execution_count": 27,
   "id": "b2e4a4ea",
   "metadata": {},
   "outputs": [
    {
     "data": {
      "text/plain": [
       "4"
      ]
     },
     "execution_count": 27,
     "metadata": {},
     "output_type": "execute_result"
    }
   ],
   "source": [
    "len(example_tuple)"
   ]
  },
  {
   "cell_type": "markdown",
   "id": "74b53f61",
   "metadata": {},
   "source": [
    "**max()** - used to find the largest value in a list of values"
   ]
  },
  {
   "cell_type": "code",
   "execution_count": 28,
   "id": "bc7205fa",
   "metadata": {},
   "outputs": [
    {
     "data": {
      "text/plain": [
       "9"
      ]
     },
     "execution_count": 28,
     "metadata": {},
     "output_type": "execute_result"
    }
   ],
   "source": [
    "max(example_tuple)"
   ]
  },
  {
   "cell_type": "markdown",
   "id": "8022485b",
   "metadata": {},
   "source": [
    "**tuple(seq)** - converts a list into tuple"
   ]
  },
  {
   "cell_type": "code",
   "execution_count": 29,
   "id": "1baf3d0e",
   "metadata": {},
   "outputs": [
    {
     "data": {
      "text/plain": [
       "(2, 3, 6, 8, 9, 10)"
      ]
     },
     "execution_count": 29,
     "metadata": {},
     "output_type": "execute_result"
    }
   ],
   "source": [
    "tuple(numbers)"
   ]
  }
 ],
 "metadata": {
  "kernelspec": {
   "display_name": "Python 3",
   "language": "python",
   "name": "python3"
  },
  "language_info": {
   "codemirror_mode": {
    "name": "ipython",
    "version": 3
   },
   "file_extension": ".py",
   "mimetype": "text/x-python",
   "name": "python",
   "nbconvert_exporter": "python",
   "pygments_lexer": "ipython3",
   "version": "3.8.8"
  }
 },
 "nbformat": 4,
 "nbformat_minor": 5
}
