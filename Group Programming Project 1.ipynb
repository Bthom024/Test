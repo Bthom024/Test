{
 "cells": [
  {
   "cell_type": "markdown",
   "id": "71b435da",
   "metadata": {},
   "source": [
    "## Group Programming Project 1\n",
    "### Brandon Thomas/Adham Howaidy\n",
    "#### Version 1\n",
    "#### CS-150 Fall 2021"
   ]
  },
  {
   "cell_type": "code",
   "execution_count": 21,
   "id": "ef84aeb5",
   "metadata": {},
   "outputs": [
    {
     "name": "stdout",
     "output_type": "stream",
     "text": [
      "Rock, Paper, Scissors? Or enter Quit to Stop Playing: Rock\n",
      "You win! Rock beats Scissors\n",
      "Rock, Paper, Scissors? Or enter Quit to Stop Playing: Paper\n",
      "You win! Paper beats Rock\n",
      "Rock, Paper, Scissors? Or enter Quit to Stop Playing: ppe\n",
      "Check your spelling! Input does not match possible choices.\n",
      "Rock, Paper, Scissors? Or enter Quit to Stop Playing: Quit\n",
      "Thank you for playing!\n"
     ]
    }
   ],
   "source": [
    "from random import randint  #used to help generate random values \n",
    "t = [\"Rock\", \"Paper\", \"Scissors\"] #list of possible choices\n",
    "Run = True #arbitrary statement that allows program to be stopped later on\n",
    "while Run:\n",
    "    computer = t[randint(0,2)] #randomly generated computer choice that corresponds to t list shown above\n",
    "    player = input(\"Rock, Paper, Scissors? Or enter Quit to Stop Playing: \") #allows input of choices and ability to quit\n",
    "    if player == computer: #condition that covers instances of a tie\n",
    "        print(\"Tie!\")\n",
    "    elif player == \"Rock\": #condition that covers instances when user inputs \"Rock\"\n",
    "        if computer == \"Paper\":\n",
    "            print(\"You lose!\", computer, \"beats\", player)\n",
    "        else:\n",
    "            print(\"You win!\", player, \"beats\", computer)\n",
    "    elif player == \"Paper\": #condition that covers instances when user inputs \"Paper\"\n",
    "        if computer == \"Scissors\":\n",
    "            print(\"You lose!\", computer, \"beats\", player)\n",
    "        else:\n",
    "            print(\"You win!\", player, \"beats\", computer)\n",
    "    elif player == \"Scissors\": #condition that covers instances when user inputs \"Scissors\"\n",
    "        if computer == \"Rock\":\n",
    "            print(\"You lose...\", computer, \"beats\", player)\n",
    "        else:\n",
    "            print(\"You win!\", player, \"beats\", computer)\n",
    "    elif player == \"Quit\": #condition that allows player to quit\n",
    "        Run = False #halts while loop (changes run from true to false)\n",
    "        print(\"Thank you for playing!\")\n",
    "    else: #covers any errant input or input that does not match possible choices\n",
    "        print(\"Check your spelling! Input does not match possible choices.\")"
   ]
  }
 ],
 "metadata": {
  "kernelspec": {
   "display_name": "Python 3",
   "language": "python",
   "name": "python3"
  },
  "language_info": {
   "codemirror_mode": {
    "name": "ipython",
    "version": 3
   },
   "file_extension": ".py",
   "mimetype": "text/x-python",
   "name": "python",
   "nbconvert_exporter": "python",
   "pygments_lexer": "ipython3",
   "version": "3.8.8"
  }
 },
 "nbformat": 4,
 "nbformat_minor": 5
}
