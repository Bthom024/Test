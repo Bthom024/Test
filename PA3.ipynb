{
 "cells": [
  {
   "cell_type": "markdown",
   "id": "3fcc1d4e",
   "metadata": {},
   "source": [
    "## Programming Assignment 3\n",
    "### Brandon Thomas\n",
    "#### Version 1\n",
    "#### CS-150 Fall 2021"
   ]
  },
  {
   "cell_type": "code",
   "execution_count": 35,
   "id": "1b02c319",
   "metadata": {},
   "outputs": [
    {
     "name": "stdout",
     "output_type": "stream",
     "text": [
      "Enter the length of side A: 5\n",
      "Enter the length of side B: 5\n",
      "Enter the length of side C: 5\n",
      "The area of the triangle is approximately: 10.825317547305483 square units.\n",
      "The perimeter of the triangle is: 15 linear units.\n"
     ]
    }
   ],
   "source": [
    "import math\n",
    "def calcArea(a=1,b=1,c=1):\n",
    "    s=(a+b+c)/2\n",
    "    area=math.sqrt(s*(s-a)*(s-b)*(s-c))\n",
    "    print(f\"The area of the triangle is approximately:\",area,\"square units.\")\n",
    "def calcPerimeter(a=1,b=1,c=1):\n",
    "    perimeter=(a+b+c)\n",
    "    print(f\"The perimeter of the triangle is:\",perimeter,\"linear units.\")\n",
    "a = int(input(\"Enter the length of side A: \"))\n",
    "b = int(input(\"Enter the length of side B: \"))\n",
    "c = int(input(\"Enter the length of side C: \"))\n",
    "\n",
    "calcArea(a,b,c)\n",
    "calcPerimeter(a,b,c)\n"
   ]
  },
  {
   "cell_type": "code",
   "execution_count": 83,
   "id": "55b60cf8",
   "metadata": {},
   "outputs": [
    {
     "name": "stdout",
     "output_type": "stream",
     "text": [
      "Enter any number from 1 to 1000:500\n",
      "Too low! Please try again.\n",
      "Enter any number from 1 to 1000:700\n",
      "Too low! Please try again.\n",
      "Enter any number from 1 to 1000:900\n",
      "Too high! Please try again.\n",
      "Enter any number from 1 to 1000:800\n",
      "Too high! Please try again.\n",
      "Enter any number from 1 to 1000:750\n",
      "Too low! Please try again.\n",
      "Enter any number from 1 to 1000:770\n",
      "Too high! Please try again.\n",
      "Enter any number from 1 to 1000:760\n",
      "Too low! Please try again.\n",
      "Enter any number from 1 to 1000:765\n",
      "Too low! Please try again.\n",
      "Enter any number from 1 to 1000:768\n",
      "Too high! Please try again.\n",
      "Enter any number from 1 to 1000:767\n",
      "Correct!\n"
     ]
    }
   ],
   "source": [
    "import random\n",
    "def evaluateGuess():\n",
    "    number=random.randint(1,1000)\n",
    "    user_number=None\n",
    "    while user_number!=number:\n",
    "        user_number=int(input(\"Enter any number from 1 to 1000:\"))\n",
    "        if user_number==number:\n",
    "            print(\"Correct!\")\n",
    "        elif user_number<number:\n",
    "            print(\"Too low! Please try again.\")\n",
    "        else:\n",
    "            print(\"Too high! Please try again.\")\n",
    "evaluateGuess()"
   ]
  },
  {
   "cell_type": "code",
   "execution_count": 34,
   "id": "1625250c",
   "metadata": {},
   "outputs": [
    {
     "name": "stdout",
     "output_type": "stream",
     "text": [
      "The mean temperature for the past 3 days is 73.33 degrees F.\n"
     ]
    }
   ],
   "source": [
    "def meanTemp(*args):\n",
    "    mean=sum(args)/len(args)\n",
    "    print(f\"The mean temperature for the past %d days is %.2f degrees F.\"%(len(args),mean))\n",
    "meanTemp(60,77,83)"
   ]
  }
 ],
 "metadata": {
  "kernelspec": {
   "display_name": "Python 3",
   "language": "python",
   "name": "python3"
  },
  "language_info": {
   "codemirror_mode": {
    "name": "ipython",
    "version": 3
   },
   "file_extension": ".py",
   "mimetype": "text/x-python",
   "name": "python",
   "nbconvert_exporter": "python",
   "pygments_lexer": "ipython3",
   "version": "3.8.8"
  }
 },
 "nbformat": 4,
 "nbformat_minor": 5
}
