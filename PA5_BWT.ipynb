{
 "cells": [
  {
   "cell_type": "markdown",
   "id": "76634a17",
   "metadata": {},
   "source": [
    "### Brandon Thomas\n",
    "### Programming Assignment 5\n",
    "#### Version 1\n",
    "#### Fall 2021"
   ]
  },
  {
   "cell_type": "code",
   "execution_count": 61,
   "id": "cbe3eaa1",
   "metadata": {},
   "outputs": [
    {
     "name": "stdout",
     "output_type": "stream",
     "text": [
      "Enter a word to translate from English to Spanish: week\n",
      "semana\n",
      "Enter a word to translate from English to Spanish: (Enter 0 to stop.): finger\n",
      "The Spanish word for user_input is not in this dictionary.\n",
      "Enter a word to translate from English to Spanish: (Enter 0 to stop.): wipe\n",
      "The Spanish word for user_input is not in this dictionary.\n",
      "Enter a word to translate from English to Spanish: (Enter 0 to stop.): leg\n",
      "pierna\n",
      "Enter a word to translate from English to Spanish: (Enter 0 to stop.): 0\n"
     ]
    }
   ],
   "source": [
    "engl_to_span={'week':'semana', 'today':'hoy', 'yesterday':'ayer', 'calendar':'calendario', 'second':'segundo', 'hour':'hora',\n",
    "                    'minute':'minuto', 'clock':'reloj', 'difficult':'dificil', 'ugly':'feo', 'good':'bueno', 'hello':'hola', 'delicious':'delicioso',\n",
    "                   'yes':'si', 'water':'agua', 'chicken':'pollo', 'fish':'pescado', 'leg':'pierna', 'head':'cabeza', 'arm':'brazo'}\n",
    "user_input=input(\"Enter a word to translate from English to Spanish: \")\n",
    "count=1\n",
    "while count>0:\n",
    "    run=True\n",
    "    for keys in engl_to_span.keys():\n",
    "        if keys==user_input:\n",
    "            print(engl_to_span[keys])\n",
    "            run=False\n",
    "    if run:\n",
    "        print(f\"The Spanish word for user_input is not in this dictionary.\")\n",
    "    count=count+1\n",
    "    user_input=input(\"Enter a word to translate from English to Spanish: (Enter 0 to stop.): \")\n",
    "    if user_input=='0':\n",
    "        count=-1\n"
   ]
  },
  {
   "cell_type": "code",
   "execution_count": 75,
   "id": "4565fa51",
   "metadata": {},
   "outputs": [
    {
     "name": "stdout",
     "output_type": "stream",
     "text": [
      "{1: 29.444444444444446, 2: 28.333333333333336, 3: 28.88888888888889, 4: 28.88888888888889, 5: 27.77777777777778, 6: 30.555555555555557, 7: 30.0, 8: 29.444444444444446, 9: 27.222222222222225, 10: 27.77777777777778, 11: 28.88888888888889, 12: 30.555555555555557, 13: 31.666666666666668, 14: 31.666666666666668, 15: 28.88888888888889, 16: 29.444444444444446, 17: 31.666666666666668, 18: 31.666666666666668, 19: 30.0, 20: 25.555555555555557, 21: 25.555555555555557, 22: 21.666666666666668, 23: 21.666666666666668, 24: 23.88888888888889, 25: 23.333333333333336, 26: 25.0, 27: 29.444444444444446, 28: 30.555555555555557, 29: 31.666666666666668, 30: 30.0}\n"
     ]
    }
   ],
   "source": [
    "temp_high_F_Sep21={1:85, 2:83, 3:84, 4:84, 5:82, 6:87, 7:86, 8:85, 9:81,\n",
    "          10:82, 11:84, 12:87, 13:89, 14:89, 15:84, 16:85, 17:89,\n",
    "          18:89, 19:86, 20:78, 21:78, 22:71, 23:71, 24:75, 25:74,\n",
    "          26:77, 27:85, 28:87, 29:89, 30:86}\n",
    "def F_to_C(x):\n",
    "    return (5/9)*(x-32)\n",
    "for keys in temp_high_F_Sep21:\n",
    "    Celsius=F_to_C(temp_high_F_Sep21[keys])\n",
    "    temp_high_F_Sep21[keys]=Celsius\n",
    "print(temp_high_F_Sep21)"
   ]
  },
  {
   "cell_type": "code",
   "execution_count": 85,
   "id": "f58be6c5",
   "metadata": {},
   "outputs": [
    {
     "data": {
      "text/plain": [
       "{10, 20, 60, 70}"
      ]
     },
     "execution_count": 85,
     "metadata": {},
     "output_type": "execute_result"
    }
   ],
   "source": [
    "seta = {10, 20, 30, 40, 50}\n",
    "setb = {30, 40, 50, 60, 70}\n",
    "seta.symmetric_difference(setb)\n",
    "#removes elements that are same in both lists and prints the difference"
   ]
  },
  {
   "cell_type": "code",
   "execution_count": 78,
   "id": "bfe43615",
   "metadata": {},
   "outputs": [
    {
     "data": {
      "text/plain": [
       "False"
      ]
     },
     "execution_count": 78,
     "metadata": {},
     "output_type": "execute_result"
    }
   ],
   "source": [
    "seta.isdisjoint(setb)\n",
    "#returns false as sets do have common elements, would return true if sets didn't have common elements"
   ]
  },
  {
   "cell_type": "code",
   "execution_count": 80,
   "id": "8fbeec59",
   "metadata": {},
   "outputs": [
    {
     "name": "stdout",
     "output_type": "stream",
     "text": [
      "{40, 50, 30}\n",
      "{70, 40, 50, 60, 30}\n"
     ]
    }
   ],
   "source": [
    "seta.intersection_update(setb) #updates with intersecting values\n",
    "print(seta)\n",
    "print(setb)"
   ]
  },
  {
   "cell_type": "code",
   "execution_count": 89,
   "id": "e8d250d0",
   "metadata": {},
   "outputs": [
    {
     "name": "stdout",
     "output_type": "stream",
     "text": [
      "{10, 50, 20, 30}\n",
      "{50, 20, 30}\n"
     ]
    }
   ],
   "source": [
    "print(seta) #removes random element\n",
    "seta.pop()\n",
    "print(seta)"
   ]
  },
  {
   "cell_type": "code",
   "execution_count": 90,
   "id": "34bc6e61",
   "metadata": {},
   "outputs": [
    {
     "data": {
      "text/plain": [
       "{30, 50}"
      ]
     },
     "execution_count": 90,
     "metadata": {},
     "output_type": "execute_result"
    }
   ],
   "source": [
    "seta.discard(20) #removes specified element\n",
    "seta"
   ]
  },
  {
   "cell_type": "code",
   "execution_count": 91,
   "id": "76769feb",
   "metadata": {},
   "outputs": [
    {
     "data": {
      "text/plain": [
       "{50}"
      ]
     },
     "execution_count": 91,
     "metadata": {},
     "output_type": "execute_result"
    }
   ],
   "source": [
    "seta.remove(30) #removes specified element\n",
    "seta"
   ]
  }
 ],
 "metadata": {
  "kernelspec": {
   "display_name": "Python 3",
   "language": "python",
   "name": "python3"
  },
  "language_info": {
   "codemirror_mode": {
    "name": "ipython",
    "version": 3
   },
   "file_extension": ".py",
   "mimetype": "text/x-python",
   "name": "python",
   "nbconvert_exporter": "python",
   "pygments_lexer": "ipython3",
   "version": "3.8.8"
  }
 },
 "nbformat": 4,
 "nbformat_minor": 5
}
